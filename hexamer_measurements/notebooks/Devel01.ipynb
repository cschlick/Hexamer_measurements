{
 "cells": [
  {
   "cell_type": "code",
   "execution_count": 2,
   "id": "49f3f9cd-7ccd-4b2c-a89f-d8a7c967683a",
   "metadata": {},
   "outputs": [],
   "source": [
    "import sys\n",
    "sys.path.append(\"../\")"
   ]
  },
  {
   "cell_type": "code",
   "execution_count": 3,
   "id": "1ec5e43f-dde8-48a9-9f70-138bd39e96d9",
   "metadata": {},
   "outputs": [],
   "source": [
    "from cluster_and_measure import measure_structure"
   ]
  },
  {
   "cell_type": "code",
   "execution_count": 21,
   "id": "e9f15d10-ebfd-4edc-b109-241dce65de59",
   "metadata": {},
   "outputs": [],
   "source": []
  },
  {
   "cell_type": "code",
   "execution_count": 22,
   "id": "c337684d-5412-4ed5-90b1-d7bf822b2eb9",
   "metadata": {},
   "outputs": [],
   "source": []
  },
  {
   "cell_type": "code",
   "execution_count": 28,
   "id": "54d5b368-7008-473b-8b45-a211b5cca2b7",
   "metadata": {},
   "outputs": [],
   "source": [
    "import numpy as np"
   ]
  },
  {
   "cell_type": "code",
   "execution_count": 33,
   "id": "1d455660-380f-4d29-9069-f86e6131c281",
   "metadata": {},
   "outputs": [
    {
     "data": {
      "text/plain": [
       "array([0.33333333, 0.33333333, 0.33333333])"
      ]
     },
     "execution_count": 33,
     "metadata": {},
     "output_type": "execute_result"
    }
   ],
   "source": [
    "np.vstack([np.eye(3),np.eye(3)]).mean(axis=0)"
   ]
  },
  {
   "cell_type": "code",
   "execution_count": 26,
   "id": "9db797e8-40df-4d7c-b58f-848fe2c88f07",
   "metadata": {},
   "outputs": [
    {
     "name": "stderr",
     "output_type": "stream",
     "text": [
      "  0%|                                                                                                                                                                                           | 0/2 [00:00<?, ?it/s]"
     ]
    },
    {
     "name": "stdout",
     "output_type": "stream",
     "text": [
      "Refactoring pdb to type=CHIMERA\n",
      "\n",
      "Start PDB Parsing\n",
      "*************************************************************************\n",
      "Found File  ../../data/fsc_structures.1000.6.min.aligned.viperdbI1.pdb\n",
      "Parsing File. Will ignore all metadata.\n",
      "Finished parsing atoms, found  277680  atoms.\n",
      "\n",
      "\n",
      "Found  35760  residues. If icosahedral, that is  596.0  residues per asu.\n",
      "\n",
      "\n",
      "Found  4  chains:  ['A', 'B', 'C', 'D']\n",
      "\n",
      "\n",
      "End PDB Parsing\n",
      "***********************************************************************\n",
      "\n",
      "Found parameter file in working directory.\n",
      "\n",
      "Parameter parsing results:\n",
      "Residue length of monomer: 149\n",
      "Number of ligand residues per asu: 0\n",
      "Number of monomers per asu: 1\n",
      "Total calculated number of residues per asu: 149\n",
      "Monomer end sequence: ['P', 'N', 'A', 'P', 'I', 'L', 'S', 'T', 'L', 'P', 'G', 'T', 'V']\n",
      "Number of asymmetric units to extract with 'extract=patch': 4\n",
      "\n",
      "\n",
      "Refactoring pdb to Chimera style......\n",
      "\n",
      "Attempting to build Residue groups...\n",
      "Success...probably. Made  0  new groups.\n",
      "Found 0 ligands.\n",
      "Attempting to build Residue  Groups.....\n",
      "Making  240.0  groups....\n",
      "Success...probably. Made  240  new groups.\n",
      "Passed: convert_to_chimera()\n",
      "Trying to make outputfile\n",
      "Written atoms to  ../../data/fsc_structures.1000.6.min.aligned.viperdbI1_CHIMERA.pdb\n"
     ]
    },
    {
     "name": "stderr",
     "output_type": "stream",
     "text": [
      " 50%|█████████████████████████████████████████████████████████████████████████████████████████▌                                                                                         | 1/2 [00:07<00:07,  7.61s/it]"
     ]
    },
    {
     "name": "stdout",
     "output_type": "stream",
     "text": [
      "Refactoring pdb to type=CHIMERA\n",
      "\n",
      "Start PDB Parsing\n",
      "*************************************************************************\n",
      "Found File  ../../data/fsc_structures.1000.4.min.aligned.viperdbI1.pdb\n",
      "Parsing File. Will ignore all metadata.\n",
      "Finished parsing atoms, found  277680  atoms.\n",
      "\n",
      "\n",
      "Found  35760  residues. If icosahedral, that is  596.0  residues per asu.\n",
      "\n",
      "\n",
      "Found  4  chains:  ['A', 'B', 'C', 'D']\n",
      "\n",
      "\n",
      "End PDB Parsing\n",
      "***********************************************************************\n",
      "\n",
      "Found parameter file in working directory.\n",
      "\n",
      "Parameter parsing results:\n",
      "Residue length of monomer: 149\n",
      "Number of ligand residues per asu: 0\n",
      "Number of monomers per asu: 1\n",
      "Total calculated number of residues per asu: 149\n",
      "Monomer end sequence: ['P', 'N', 'A', 'P', 'I', 'L', 'S', 'T', 'L', 'P', 'G', 'T', 'V']\n",
      "Number of asymmetric units to extract with 'extract=patch': 4\n",
      "\n",
      "\n",
      "Refactoring pdb to Chimera style......\n",
      "\n",
      "Attempting to build Residue groups...\n",
      "Success...probably. Made  0  new groups.\n",
      "Found 0 ligands.\n",
      "Attempting to build Residue  Groups.....\n",
      "Making  240.0  groups....\n",
      "Success...probably. Made  240  new groups.\n",
      "Passed: convert_to_chimera()\n",
      "Trying to make outputfile\n",
      "Written atoms to  ../../data/fsc_structures.1000.4.min.aligned.viperdbI1_CHIMERA.pdb\n"
     ]
    },
    {
     "name": "stderr",
     "output_type": "stream",
     "text": [
      "100%|███████████████████████████████████████████████████████████████████████████████████████████████████████████████████████████████████████████████████████████████████████████████████| 2/2 [00:15<00:00,  7.62s/it]\n"
     ]
    }
   ],
   "source": []
  },
  {
   "cell_type": "code",
   "execution_count": null,
   "id": "330d3679-e6da-4e3f-a2f7-ff32ebffaa7e",
   "metadata": {},
   "outputs": [],
   "source": []
  }
 ],
 "metadata": {
  "kernelspec": {
   "display_name": "Python 3 (ipykernel)",
   "language": "python",
   "name": "python3"
  },
  "language_info": {
   "codemirror_mode": {
    "name": "ipython",
    "version": 3
   },
   "file_extension": ".py",
   "mimetype": "text/x-python",
   "name": "python",
   "nbconvert_exporter": "python",
   "pygments_lexer": "ipython3",
   "version": "3.9.7"
  }
 },
 "nbformat": 4,
 "nbformat_minor": 5
}
